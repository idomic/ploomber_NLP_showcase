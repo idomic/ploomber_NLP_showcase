{
 "cells": [
  {
   "cell_type": "markdown",
   "id": "54695be0-757d-495a-850c-3b29cfb668d8",
   "metadata": {},
   "source": [
    "## Example interference"
   ]
  },
  {
   "cell_type": "code",
   "execution_count": null,
   "id": "bad78c3f-2b62-448d-a5f7-c91b0dde8aa5",
   "metadata": {},
   "outputs": [],
   "source": [
    "#!pip install hackernews-client -q"
   ]
  },
  {
   "cell_type": "code",
   "execution_count": 53,
   "id": "de79eda7-054f-4721-b316-7a7b6bc94fd3",
   "metadata": {},
   "outputs": [],
   "source": [
    "import numpy as np\n",
    "import pandas as pd\n",
    "from transformers import AutoModelForSequenceClassification\n",
    "from transformers import AutoTokenizer\n",
    "num_labels = 14\n",
    "\n",
    "\n",
    "\n",
    "model_checkpoint = f\"./finetuned/checkpoint-80344/\"\n",
    "model_test = AutoModelForSequenceClassification.from_pretrained(model_checkpoint,\n",
    "                                                                num_labels=num_labels)\n",
    "\n",
    "tokenizer = AutoTokenizer.from_pretrained(model_checkpoint, use_fast=True)\n"
   ]
  },
  {
   "cell_type": "code",
   "execution_count": 54,
   "id": "3e4eff35-3d71-4331-932a-6b74fdda769b",
   "metadata": {},
   "outputs": [],
   "source": [
    "def softmax(_outputs):\n",
    "    maxes = np.max(_outputs, axis=-1, keepdims=True)\n",
    "    shifted_exp = np.exp(_outputs - maxes)\n",
    "    return shifted_exp / shifted_exp.sum(axis=-1, keepdims=True)\n",
    "\n",
    "def test_interference(trained_model,text):\n",
    "  text_pt = tokenizer([text],\n",
    "                    padding=\"max_length\",max_length=201,\n",
    "                    truncation=True,return_tensors=\"pt\")\n",
    "  #return np.argmax(model_test(**text_pt)[0][0].detach().numpy())\n",
    "  return softmax(trained_model(**text_pt)[0][0].detach().numpy())"
   ]
  },
  {
   "cell_type": "code",
   "execution_count": 55,
   "id": "9567c597-559b-489a-b361-9cd29f002851",
   "metadata": {},
   "outputs": [],
   "source": [
    "reduced_cats = {\n",
    "  \"CULTURE & ARTS\":[\"ARTS\",\"ARTS & CULTURE\",\"CULTURE & ARTS\"],\n",
    " \"BUSINESS\": [\"BUSINESS\",\"MONEY\"],\n",
    " \"EDUCATION\": [\"EDUCATION\",\"COLLEGE\"],\n",
    " \"COMEDY & ENTERTAINMENT\" : [\"COMEDY\",\"ENTERTAINMENT\",\"MEDIA\"],\n",
    " \"HEALTH & LIVING\": [\"WELLNESS\",\"HEALTHY LIVING\",\n",
    "                     \"STYLE & BEAUTY\",\"HOME & LIVING\",\n",
    "                     \"PARENTS\",\"STYLE\",\"FOOD & DRINK\",\"TASTE\",\"PARENTING\",\"DIVORCE\",\"WEDDINGS\"],\n",
    " \"RELIGION\" : [\"RELIGION\"],\n",
    " \"POLITICS\" : [\"POLITICS\",\"BLACK VOICES\",\"LATINO VOICES\",\"QUEER VOICES\",\"WOMEN\"],\n",
    " \"SPORTS\" : [\"SPORTS\"],\n",
    " \"TRAVEL\" : [\"TRAVEL\"],\n",
    " \"NEWS\" :[\"GOOD NEWS\",\"THE WORLDPOST\",\"WORLDPOST\",\"WORLD NEWS\",\"WEIRD NEWS\",\"CRIME\"],\n",
    " \"ENVIRONMENT\" : [\"GREEN\",\"ENVIRONMENT\"],\n",
    " \"SCIENCE\": [\"SCIENCE\"],\n",
    " \"TECH\": [\"TECH\"],\n",
    " \"OTHER\" : [\"IMPACT\",\"FIFTY\"]\n",
    " }\n",
    "\n",
    "label_map = {}\n",
    "for i,cats in enumerate(reduced_cats.values()):\n",
    "  for cat in cats:\n",
    "    label_map[cat] = i\n",
    "\n",
    "num_labels = len(reduced_cats.keys())\n",
    "\n",
    "lookup_label = {i:v for i,v in enumerate(reduced_cats.values())}"
   ]
  },
  {
   "cell_type": "code",
   "execution_count": 56,
   "id": "6fef2b42-a9e7-4595-bea6-b58974e6ef15",
   "metadata": {},
   "outputs": [],
   "source": [
    "give_cat = lambda x: lookup_label[np.argmax(test_interference(model_test,x))]"
   ]
  },
  {
   "cell_type": "code",
   "execution_count": 14,
   "id": "0d471deb-568e-4953-8f71-370ab20e1a2b",
   "metadata": {},
   "outputs": [
    {
     "name": "stdout",
     "output_type": "stream",
     "text": [
      "huggingface/tokenizers: The current process just got forked, after parallelism has already been used. Disabling parallelism to avoid deadlocks...\n",
      "To disable this warning, you can either:\n",
      "\t- Avoid using `tokenizers` before the fork if possible\n",
      "\t- Explicitly set the environment variable TOKENIZERS_PARALLELISM=(true | false)\n",
      "\u001b[33mWARNING: You are using pip version 21.2.4; however, version 21.3.1 is available.\n",
      "You should consider upgrading via the '/Users/franz/miniforge3/bin/python3.9 -m pip install --upgrade pip' command.\u001b[0m\n"
     ]
    }
   ],
   "source": []
  },
  {
   "cell_type": "code",
   "execution_count": 57,
   "id": "5cd69943-7470-423b-93d8-781ab1f395ec",
   "metadata": {
    "tags": []
   },
   "outputs": [],
   "source": [
    "from hackernews import hn\n",
    "import requests\n",
    "import re\n",
    "from lxml import html\n",
    "news_client = hn.NewsClient()\n",
    "\n",
    "def get_comm(x):\n",
    "  try:\n",
    "    c_id = x.kids[0]\n",
    "    return requests.get(f\"https://hacker-news.firebaseio.com/v0/item/{c_id}.json\").json()['text']\n",
    "  except:\n",
    "    return \"\"\n",
    "\n",
    "\n",
    "h = news_client.get_best_story(fetchMax=200)\n",
    "\n"
   ]
  },
  {
   "cell_type": "code",
   "execution_count": 38,
   "id": "0074a077-ef5f-4557-bd61-51c73e99610e",
   "metadata": {},
   "outputs": [],
   "source": [
    "def get_title_and_comment(item)\n",
    "    cleaned_top_comment =  re.sub('<[^<]+?>',get_comm(x),\" \")\n",
    "    return x.title + \"\\n\" + cleaned_top_comment\n",
    "\n",
    "\n",
    "headline_and_comment  =  [get_title_and_comment(x) for x in h]\n"
   ]
  },
  {
   "cell_type": "code",
   "execution_count": 59,
   "id": "29b57c68-8134-4447-87b9-c0c443a6d07c",
   "metadata": {},
   "outputs": [],
   "source": [
    "\n",
    "df = pd.DataFrame({\n",
    "\"story\": headline_and_comment\n",
    "})\n",
    "df[\"label\"] = df[\"story\"].apply(give_cat)"
   ]
  },
  {
   "cell_type": "code",
   "execution_count": 61,
   "id": "ad441daa-bdfd-472f-9a35-1eb2d7ef1dd9",
   "metadata": {},
   "outputs": [
    {
     "data": {
      "text/html": [
       "<div>\n",
       "<style scoped>\n",
       "    .dataframe tbody tr th:only-of-type {\n",
       "        vertical-align: middle;\n",
       "    }\n",
       "\n",
       "    .dataframe tbody tr th {\n",
       "        vertical-align: top;\n",
       "    }\n",
       "\n",
       "    .dataframe thead th {\n",
       "        text-align: right;\n",
       "    }\n",
       "</style>\n",
       "<table border=\"1\" class=\"dataframe\">\n",
       "  <thead>\n",
       "    <tr style=\"text-align: right;\">\n",
       "      <th></th>\n",
       "      <th>story</th>\n",
       "      <th>label</th>\n",
       "    </tr>\n",
       "  </thead>\n",
       "  <tbody>\n",
       "    <tr>\n",
       "      <th>97</th>\n",
       "      <td>An old photo of a large BBS\\n</td>\n",
       "      <td>[WELLNESS, HEALTHY LIVING, STYLE &amp; BEAUTY, HOM...</td>\n",
       "    </tr>\n",
       "    <tr>\n",
       "      <th>48</th>\n",
       "      <td>Gov.uk Platform as a Service\\n</td>\n",
       "      <td>[POLITICS, BLACK VOICES, LATINO VOICES, QUEER ...</td>\n",
       "    </tr>\n",
       "    <tr>\n",
       "      <th>115</th>\n",
       "      <td>Orcas found to kill blue whales\\n</td>\n",
       "      <td>[GREEN, ENVIRONMENT]</td>\n",
       "    </tr>\n",
       "    <tr>\n",
       "      <th>15</th>\n",
       "      <td>Prime Video Uses WebAssembly\\n</td>\n",
       "      <td>[TECH]</td>\n",
       "    </tr>\n",
       "    <tr>\n",
       "      <th>155</th>\n",
       "      <td>Walking America: Washington, DC (Anacostia and...</td>\n",
       "      <td>[TRAVEL]</td>\n",
       "    </tr>\n",
       "    <tr>\n",
       "      <th>40</th>\n",
       "      <td>Show HN: Hibiki HTML – New frontend framework ...</td>\n",
       "      <td>[TECH]</td>\n",
       "    </tr>\n",
       "    <tr>\n",
       "      <th>191</th>\n",
       "      <td>Arizona Introduces a bill to make Bitcoin Lega...</td>\n",
       "      <td>[BUSINESS, MONEY]</td>\n",
       "    </tr>\n",
       "    <tr>\n",
       "      <th>79</th>\n",
       "      <td>Decryption through LUKS2 reencryption crash re...</td>\n",
       "      <td>[GOOD NEWS, THE WORLDPOST, WORLDPOST, WORLD NE...</td>\n",
       "    </tr>\n",
       "    <tr>\n",
       "      <th>19</th>\n",
       "      <td>We have jetpacks and we do not care\\n</td>\n",
       "      <td>[GOOD NEWS, THE WORLDPOST, WORLDPOST, WORLD NE...</td>\n",
       "    </tr>\n",
       "    <tr>\n",
       "      <th>165</th>\n",
       "      <td>Choosing tools for Game Boy development\\n</td>\n",
       "      <td>[BUSINESS, MONEY]</td>\n",
       "    </tr>\n",
       "  </tbody>\n",
       "</table>\n",
       "</div>"
      ],
      "text/plain": [
       "                                                 story  \\\n",
       "97                      An old photo of a large BBS\\n    \n",
       "48                     Gov.uk Platform as a Service\\n    \n",
       "115                 Orcas found to kill blue whales\\n    \n",
       "15                     Prime Video Uses WebAssembly\\n    \n",
       "155  Walking America: Washington, DC (Anacostia and...   \n",
       "40   Show HN: Hibiki HTML – New frontend framework ...   \n",
       "191  Arizona Introduces a bill to make Bitcoin Lega...   \n",
       "79   Decryption through LUKS2 reencryption crash re...   \n",
       "19              We have jetpacks and we do not care\\n    \n",
       "165         Choosing tools for Game Boy development\\n    \n",
       "\n",
       "                                                 label  \n",
       "97   [WELLNESS, HEALTHY LIVING, STYLE & BEAUTY, HOM...  \n",
       "48   [POLITICS, BLACK VOICES, LATINO VOICES, QUEER ...  \n",
       "115                               [GREEN, ENVIRONMENT]  \n",
       "15                                              [TECH]  \n",
       "155                                           [TRAVEL]  \n",
       "40                                              [TECH]  \n",
       "191                                  [BUSINESS, MONEY]  \n",
       "79   [GOOD NEWS, THE WORLDPOST, WORLDPOST, WORLD NE...  \n",
       "19   [GOOD NEWS, THE WORLDPOST, WORLDPOST, WORLD NE...  \n",
       "165                                  [BUSINESS, MONEY]  "
      ]
     },
     "execution_count": 61,
     "metadata": {},
     "output_type": "execute_result"
    }
   ],
   "source": [
    "df.sample(10)"
   ]
  }
 ],
 "metadata": {
  "kernelspec": {
   "display_name": "Python 3 (ipykernel)",
   "language": "python",
   "name": "python3"
  },
  "language_info": {
   "codemirror_mode": {
    "name": "ipython",
    "version": 3
   },
   "file_extension": ".py",
   "mimetype": "text/x-python",
   "name": "python",
   "nbconvert_exporter": "python",
   "pygments_lexer": "ipython3",
   "version": "3.9.6"
  }
 },
 "nbformat": 4,
 "nbformat_minor": 5
}
