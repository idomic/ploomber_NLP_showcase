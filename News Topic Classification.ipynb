{
 "cells": [
  {
   "cell_type": "markdown",
   "id": "dd8b98fa-1040-4ec5-958a-7c1805fb1e59",
   "metadata": {},
   "source": [
    "# Topic classification\n",
    "## Downloading and cleaning data"
   ]
  },
  {
   "cell_type": "code",
   "execution_count": 1,
   "id": "0783affe-4238-4682-ba8f-d8134b4680cb",
   "metadata": {},
   "outputs": [],
   "source": [
    "import pandas as pd\n",
    "from datasets import load_dataset\n",
    "from datasets import Dataset\n",
    "SEED = 42"
   ]
  },
  {
   "cell_type": "code",
   "execution_count": 2,
   "id": "5169a3a3-ec74-4689-9c58-0877ab7be66c",
   "metadata": {},
   "outputs": [
    {
     "name": "stderr",
     "output_type": "stream",
     "text": [
      "Using custom data configuration default\n",
      "Reusing dataset news_category (/Users/franz/.cache/huggingface/datasets/news_category/default/0.0.0/737b7b6dff469cbba49a6202c9e94f9d39da1fed94e13170cf7ac4b61a75fb9c)\n"
     ]
    }
   ],
   "source": [
    "dataset = load_dataset(\"Fraser/news-category-dataset\")\n",
    "num_labels = len(set(dataset[\"train\"][\"category_num\"]))\n"
   ]
  },
  {
   "cell_type": "code",
   "execution_count": 3,
   "id": "69691d3e-5965-473b-9e1e-8dca071a4bce",
   "metadata": {},
   "outputs": [],
   "source": [
    "reduced_categories = {\n",
    "  \"CULTURE & ARTS\":[\"ARTS\",\"ARTS & CULTURE\",\"CULTURE & ARTS\"],\n",
    " \"BUSINESS\": [\"BUSINESS\",\"MONEY\"],\n",
    " \"EDUCATION\": [\"EDUCATION\",\"COLLEGE\"],\n",
    " \"COMEDY & ENTERTAINMENT\" : [\"COMEDY\",\"ENTERTAINMENT\",\"MEDIA\"],\n",
    " \"HEALTH & LIVING\": [\"WELLNESS\",\"HEALTHY LIVING\",\n",
    "                     \"STYLE & BEAUTY\",\"HOME & LIVING\",\n",
    "                     \"PARENTS\",\"STYLE\",\"FOOD & DRINK\",\"TASTE\",\"PARENTING\",\"DIVORCE\",\"WEDDINGS\"],\n",
    " \"RELIGION\" : [\"RELIGION\"],\n",
    " \"POLITICS\" : [\"POLITICS\",\"BLACK VOICES\",\"LATINO VOICES\",\"QUEER VOICES\",\"WOMEN\"],\n",
    " \"SPORTS\" : [\"SPORTS\"],\n",
    " \"TRAVEL\" : [\"TRAVEL\"],\n",
    " \"NEWS\" :[\"GOOD NEWS\",\"THE WORLDPOST\",\"WORLDPOST\",\"WORLD NEWS\",\"WEIRD NEWS\",\"CRIME\"],\n",
    " \"ENVIRONMENT\" : [\"GREEN\",\"ENVIRONMENT\"],\n",
    " \"SCIENCE\": [\"SCIENCE\"],\n",
    " \"TECH\": [\"TECH\"],\n",
    " \"OTHER\" : [\"IMPACT\",\"FIFTY\"]\n",
    " }\n",
    "\n"
   ]
  },
  {
   "cell_type": "code",
   "execution_count": 4,
   "id": "045bf27f-cc35-4b2c-870e-cfe785b4e157",
   "metadata": {},
   "outputs": [],
   "source": [
    "label_map = {}\n",
    "for i,cats in enumerate(reduced_categories.values()):\n",
    "  for cat in cats:\n",
    "    label_map[cat] = i"
   ]
  },
  {
   "cell_type": "code",
   "execution_count": 5,
   "id": "d2e026b4-f8ec-4e1f-8efc-66ca761d2ed2",
   "metadata": {},
   "outputs": [],
   "source": [
    "train_dataset = Dataset.from_dict({\n",
    "    \"text\" : dataset[\"train\"][\"headline\"],\n",
    "    \"label\": pd.Series(dataset[\"train\"][\"category\"]).replace(label_map).tolist()\n",
    "})"
   ]
  },
  {
   "cell_type": "code",
   "execution_count": 6,
   "id": "f6312c80-b3a0-47db-86ed-cae97ca0fbbb",
   "metadata": {},
   "outputs": [],
   "source": [
    "\n",
    "test_dataset = Dataset.from_dict({\n",
    "    \"text\" : dataset[\"test\"][\"headline\"],\n",
    "    \"label\": pd.Series(dataset[\"test\"][\"category\"]).replace(label_map).tolist()\n",
    "})"
   ]
  },
  {
   "cell_type": "code",
   "execution_count": 7,
   "id": "66f6e621-a563-4c5e-86cc-11c0bb0bb223",
   "metadata": {},
   "outputs": [],
   "source": [
    "train_dataset.save_to_disk(\"./tmp/train_dataset\")\n",
    "test_dataset.save_to_disk(\"./tmp/test_dataset\")"
   ]
  },
  {
   "cell_type": "markdown",
   "id": "c5645fa7-5b89-472f-bc15-94e86cb0e516",
   "metadata": {
    "tags": []
   },
   "source": [
    "## Training the model"
   ]
  },
  {
   "cell_type": "code",
   "execution_count": 8,
   "id": "655fc5aa-adb1-4e17-a6e9-c2911a4e1f26",
   "metadata": {},
   "outputs": [],
   "source": [
    "from datasets import Dataset\n",
    "from transformers import AutoModelForSequenceClassification, TrainingArguments, Trainer\n",
    "from transformers import AutoTokenizer\n",
    "from datasets import load_metric\n",
    "import numpy as np\n",
    "metric = load_metric(\"accuracy\")"
   ]
  },
  {
   "cell_type": "code",
   "execution_count": 9,
   "id": "6bc0b272-b3f0-414c-ae6f-1ce1c7d8a615",
   "metadata": {},
   "outputs": [],
   "source": [
    "train_dataset = Dataset.from_file(\"./tmp/train_dataset/dataset.arrow\")\n",
    "test_dataset  = Dataset.from_file(\"./tmp/test_dataset/dataset.arrow\")\n",
    "num_labels = 41"
   ]
  },
  {
   "cell_type": "code",
   "execution_count": null,
   "id": "a93a182a-b9a6-4b78-8025-c20d2ea9f32d",
   "metadata": {},
   "outputs": [],
   "source": [
    "model_checkpoint = \"microsoft/xtremedistil-l6-h256-uncased\"\n",
    "\n",
    "tokenizer = AutoTokenizer.from_pretrained(model_checkpoint, use_fast=True)\n",
    "model = AutoModelForSequenceClassification.from_pretrained(model_checkpoint, num_labels=num_labels)"
   ]
  },
  {
   "cell_type": "code",
   "execution_count": null,
   "id": "b52808e7-0113-4b1e-adb3-c61905d3818a",
   "metadata": {},
   "outputs": [],
   "source": [
    "def preprocess_function(examples, tokenizer):\n",
    "    return tokenizer(examples[\"text\"],\n",
    "                   padding=\"max_length\",max_length=201 ,\n",
    "                   truncation=True)\n",
    "\n",
    "def compute_metrics(eval_pred, metric):\n",
    "    predictions, labels = eval_pred\n",
    "    predictions = np.argmax(predictions, axis=1)\n",
    "    return metric.compute(predictions=predictions, references=labels)"
   ]
  },
  {
   "cell_type": "code",
   "execution_count": null,
   "id": "6eb1ad5f-e0be-4073-b640-85a022b7b3da",
   "metadata": {},
   "outputs": [],
   "source": [
    "encoded_train_dataset = train_dataset.map(preprocess_function, tokenizer,batched=True)\n",
    "encoded_test_dataset = test_dataset.map(preprocess_function, tokenizer,batched=True)"
   ]
  },
  {
   "cell_type": "code",
   "execution_count": null,
   "id": "26c03c28-5c65-468e-b7f2-d84091e8cfe4",
   "metadata": {},
   "outputs": [],
   "source": [
    "metric_name = \"accuracy\"\n",
    "batch_size= 16\n",
    "args = TrainingArguments(\n",
    "    f\"finetuned\",\n",
    "    evaluation_strategy = \"epoch\",\n",
    "    save_strategy = \"epoch\",\n",
    "    learning_rate=2e-5,\n",
    "    per_device_train_batch_size=batch_size,\n",
    "    per_device_eval_batch_size=batch_size,\n",
    "    num_train_epochs=5,\n",
    "    weight_decay=0.01,\n",
    "    load_best_model_at_end=True,\n",
    "    metric_for_best_model=metric_name,\n",
    "    push_to_hub=False,\n",
    ")"
   ]
  },
  {
   "cell_type": "code",
   "execution_count": null,
   "id": "8564c4a8-0f0a-4aee-a301-d2f9476e6b66",
   "metadata": {},
   "outputs": [],
   "source": [
    "validation_key = \"validation\"\n",
    "trainer = Trainer(\n",
    "    model,\n",
    "    args,\n",
    "    train_dataset=encoded_train_dataset,\n",
    "    eval_dataset=encoded_test_dataset,\n",
    "    tokenizer=tokenizer,\n",
    "    \n",
    "    compute_metrics=compute_metrics(metric)\n",
    ")"
   ]
  },
  {
   "cell_type": "code",
   "execution_count": null,
   "id": "b1dd5067-5692-4f69-8703-2568cf80db56",
   "metadata": {},
   "outputs": [],
   "source": [
    "trainer.train()"
   ]
  },
  {
   "cell_type": "code",
   "execution_count": null,
   "id": "38629385-ae8f-41a9-bbd1-82f1874c50a2",
   "metadata": {},
   "outputs": [],
   "source": [
    "trainer.save()"
   ]
  },
  {
   "cell_type": "markdown",
   "id": "1ac27879-7988-410a-8124-5817b113e891",
   "metadata": {
    "tags": []
   },
   "source": [
    "## Interference of the model"
   ]
  },
  {
   "cell_type": "code",
   "execution_count": 11,
   "id": "d70ee722-29e8-4ef8-88a4-8c71e7c2096a",
   "metadata": {},
   "outputs": [],
   "source": [
    "from transformers import AutoModelForSequenceClassification, TrainingArguments, Trainer\n",
    "from transformers import AutoTokenizer\n",
    "import nump as np\n",
    "num_labels = 41"
   ]
  },
  {
   "cell_type": "code",
   "execution_count": null,
   "id": "324b1e9e-75c8-40e0-98e2-8ba185ae4a1f",
   "metadata": {},
   "outputs": [],
   "source": [
    "best_model = f\"./finetuned/best-model/\"\n",
    "\n",
    "tokenizer = AutoTokenizer.from_pretrained(best_model, use_fast=True)\n",
    "\n",
    "model_test = AutoModelForSequenceClassification.from_pretrained(\n",
    "    best_model,\n",
    "    num_labels=num_labels)\n"
   ]
  },
  {
   "cell_type": "code",
   "execution_count": null,
   "id": "0c9de21d-6698-4f96-961f-15c75eda73d7",
   "metadata": {},
   "outputs": [],
   "source": [
    "#source: https://github.com/huggingface/transformers/blob/master/src/transformers/pipelines/text_classification.py\n",
    "def softmax(_outputs):\n",
    "    maxes = np.max(_outputs, axis=-1, keepdims=True)\n",
    "    shifted_exp = np.exp(_outputs - maxes)\n",
    "    return shifted_exp / shifted_exp.sum(axis=-1, keepdims=True)\n",
    "\n",
    "def test_interference(trained_model, text, tokenizer):\n",
    "    text_pt = tokenizer([text],\n",
    "                    padding=\"max_length\",max_length=201,\n",
    "                    truncation=True,return_tensors=\"pt\")\n",
    "    return softmax(trained_model(**text_pt)[0][0].detach().numpy())"
   ]
  },
  {
   "cell_type": "code",
   "execution_count": null,
   "id": "d2b0fb4b-233d-4199-b03d-4762b3f9ab08",
   "metadata": {},
   "outputs": [],
   "source": [
    "\n",
    "np.argmax(test_interference(model_test, \"A bird was flying today\", tokenizer))\n",
    "\n"
   ]
  }
 ],
 "metadata": {
  "kernelspec": {
   "display_name": "Python 3 (ipykernel)",
   "language": "python",
   "name": "python3"
  },
  "language_info": {
   "codemirror_mode": {
    "name": "ipython",
    "version": 3
   },
   "file_extension": ".py",
   "mimetype": "text/x-python",
   "name": "python",
   "nbconvert_exporter": "python",
   "pygments_lexer": "ipython3",
   "version": "3.9.6"
  }
 },
 "nbformat": 4,
 "nbformat_minor": 5
}
